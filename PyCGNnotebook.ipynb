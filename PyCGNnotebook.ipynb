{
  "nbformat": 4,
  "nbformat_minor": 0,
  "metadata": {
    "colab": {
      "provenance": []
    },
    "kernelspec": {
      "name": "python3",
      "display_name": "Python 3"
    },
    "language_info": {
      "name": "python"
    }
  },
  "cells": [
    {
      "cell_type": "code",
      "execution_count": null,
      "metadata": {
        "colab": {
          "base_uri": "https://localhost:8080/"
        },
        "id": "U40ZL-eFzGhy",
        "outputId": "ca00492d-3d68-4eef-b724-c1dd6ccf6bf2"
      },
      "outputs": [
        {
          "output_type": "stream",
          "name": "stdout",
          "text": [
            "Drive already mounted at /content/gdrive; to attempt to forcibly remount, call drive.mount(\"/content/gdrive\", force_remount=True).\n",
            "Looking in indexes: https://pypi.org/simple, https://us-python.pkg.dev/colab-wheels/public/simple/\n",
            "Collecting pymeshlab\n",
            "  Downloading pymeshlab-2022.2.post3-cp39-cp39-manylinux1_x86_64.whl (59.3 MB)\n",
            "\u001b[2K     \u001b[90m━━━━━━━━━━━━━━━━━━━━━━━━━━━━━━━━━━━━━━━━\u001b[0m \u001b[32m59.3/59.3 MB\u001b[0m \u001b[31m12.6 MB/s\u001b[0m eta \u001b[36m0:00:00\u001b[0m\n",
            "\u001b[?25hRequirement already satisfied: numpy in /usr/local/lib/python3.9/dist-packages (from pymeshlab) (1.22.4)\n",
            "Installing collected packages: pymeshlab\n",
            "Successfully installed pymeshlab-2022.2.post3\n"
          ]
        }
      ],
      "source": [
        "#mounting googledrive and using the folder wher PyConfocalGN is stored\n",
        "\n",
        "from google.colab import drive\n",
        "drive.mount('/content/gdrive')\n",
        "import sys; sys.path.append(\"/content/gdrive/MyDrive/PyConfocalGN\")\n",
        "!pip install pymeshlab\n"
      ]
    },
    {
      "cell_type": "code",
      "source": [
        "#This is an example where points are created using pymeshlab\n",
        "\n",
        "import numpy as np\n",
        "import cgn\n",
        "import tifffile\n",
        "import time\n",
        "import pymeshlab\n",
        "import os \n",
        "\n",
        "options = cgn.DEFAULT_OPTIONS\n",
        "truth = cgn.DEFAULT_TRUTH\n",
        "truth[\"signal\"]=np.array([100])\n",
        "conf = cgn.DEFAULT_CONF\n",
        "\n",
        "\n",
        "sample_image = tifffile.imread(\"/content/gdrive/MyDrive/PyConfocalGN/sample_image.tiff\")\n",
        "#psf=tifffile.imread(\"/content/gdrive/MyDrive/PyConfocalGN/MeasuredPSF31.68.tif\")\n",
        "ms=pymeshlab.MeshSet()\n",
        "ms.create_sphere(subdiv=5)\n",
        "points = ms.current_mesh().vertex_matrix()\n",
        "print(f\"The center of the points is {np.mean(points, axis=0)}\")\n",
        "truth[\"source\"]=points\n",
        "options[\"sample_image\"]=sample_image\n",
        "res, truth_img, sample_prop = cgn.confocal_generator(truth, conf, options)\n",
        "\n",
        "image= ((1/3)*(res[\"stack\"].astype(np.uint32))).astype(np.uint32)\n",
        "tifffile.imwrite(\"/content/gdrive/MyDrive/PyConfocalGN/new_image2.tiff\", image)"
      ],
      "metadata": {
        "colab": {
          "base_uri": "https://localhost:8080/"
        },
        "id": "qWe-DvaDTWHp",
        "outputId": "ad375b59-3f42-4976-de50-f918e9c30468"
      },
      "execution_count": null,
      "outputs": [
        {
          "output_type": "stream",
          "name": "stdout",
          "text": [
            "The center of the points is [ 1.38750778e-18 -2.22001245e-17  1.38750778e-18]\n",
            "[490.9   31.68  31.68]\n",
            "Using poisson in pixel distribution\n",
            "We are using the normal distribution\n",
            "Using gamma distribution in pixel distribution\n",
            "The signal is 9595.656190511098\n",
            "The noise is 193.81657251110025\n",
            "Target:\n",
            "        signal       [32.335467798695056, 581.5963442930429, 25699.648620209682]\n",
            "        noise        [1.7594496672777666, 8.65122968154227, 98.60554114379981]\n",
            "        signal/noise 18.378171538561105\n",
            "Achieved:\n",
            "        signal       [317.1150176250819, 88220.31672385428, 74820022.08513531]\n",
            "        noise        [17.206140963006366, 611.8469426761894, 86161.4222900725]\n",
            "        signal/noise 18.430339394922264\n",
            "The last results shape is (55, 512, 512)\n",
            "The last results max is 7056.751275879401\n"
          ]
        }
      ]
    },
    {
      "cell_type": "code",
      "source": [
        "#In this example the points are read in from a file\n",
        "import numpy as np\n",
        "import cgn\n",
        "import tifffile\n",
        "import time\n",
        "import pymeshlab\n",
        "import os \n",
        "\n",
        "options = cgn.DEFAULT_OPTIONS\n",
        "truth = cgn.DEFAULT_TRUTH\n",
        "truth[\"signal\"]=np.array([100])\n",
        "conf = cgn.DEFAULT_CONF\n",
        "conf[\"psf\"]=tifffile.imread(\"/content/gdrive/MyDrive/PyConfocalGN/MeasuredPSF31.68.tif\")\n",
        "\n",
        "points=np.array([line.split(\" \") for line in open(\"/content/gdrive/MyDrive/PyConfocalGN/bunny70kupsampled.txt\").readlines()]).astype(float)\n",
        "sample_image = tifffile.imread(\"/content/gdrive/MyDrive/PyConfocalGN/sample_image.tiff\")\n",
        "truth[\"source\"]=points\n",
        "options[\"sample_image\"]=sample_image\n",
        "res, truth_img, sample_prop = cgn.confocal_generator(truth, conf, options)\n",
        "\n",
        "\n",
        "image=res[\"stack\"].astype(np.uint32)\n",
        "tifffile.imwrite(\"/content/gdrive/MyDrive/PyConfocalGN/bunny.tiff\", image)"
      ],
      "metadata": {
        "colab": {
          "base_uri": "https://localhost:8080/"
        },
        "id": "7cWFmRE5oX3w",
        "outputId": "367d5743-8fe6-4ad8-b6cf-619fa8ec6afd"
      },
      "execution_count": null,
      "outputs": [
        {
          "output_type": "stream",
          "name": "stdout",
          "text": [
            "[490.9   31.68  31.68]\n",
            "Using poisson in pixel distribution\n",
            "We are using the normal distribution\n",
            "Using gamma distribution in pixel distribution\n",
            "The signal is 609304.6594979132\n",
            "The noise is 8357.65942722861\n",
            "Target:\n",
            "        signal       [32.335467798695056, 581.5963442930429, 25699.648620209682]\n",
            "        noise        [1.7594496672777666, 8.65122968154227, 98.60554114379981]\n",
            "        signal/noise 18.378171538561105\n",
            "Achieved:\n",
            "        signal       [318.1832439390866, 65642.91000195645, 35941933.57332365]\n",
            "        noise        [17.249708772732834, 495.0529752699309, 74770.10936041297]\n",
            "        signal/noise 18.445716859988327\n",
            "The last results shape is (55, 512, 512)\n",
            "The last results max is 4185.772401960837\n"
          ]
        }
      ]
    },
    {
      "cell_type": "code",
      "source": [],
      "metadata": {
        "id": "kbWnIB8rpXc4"
      },
      "execution_count": null,
      "outputs": []
    }
  ]
}